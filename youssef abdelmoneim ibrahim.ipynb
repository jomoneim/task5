{
 "cells": [
  {
   "cell_type": "code",
   "execution_count": 29,
   "id": "0f26882b-7212-404d-9d9f-5c4c875d3397",
   "metadata": {},
   "outputs": [
    {
     "name": "stdin",
     "output_type": "stream",
     "text": [
      "Enter the first name:  youssef\n",
      "Enter the second name:  mahmoud\n"
     ]
    },
    {
     "name": "stdout",
     "output_type": "stream",
     "text": [
      "Love Score: 33\n"
     ]
    }
   ],
   "source": [
    "def calculate_love_score(name1, name2):\n",
    "    X1 = 0\n",
    "    Y1 = 0\n",
    "    X2 = 0\n",
    "    Y2 = 0\n",
    "\n",
    "    for i in name1:\n",
    "        if i == \"T\":\n",
    "            X1 += 1\n",
    "        elif i == \"R\":\n",
    "            X1 += 1\n",
    "        elif i == \"U\":\n",
    "            X1 += 1\n",
    "        elif i == \"E\":\n",
    "            X1 += 1\n",
    "    for i in name1:\n",
    "        if i == \"L\":\n",
    "            Y1 += 1\n",
    "        elif i == \"O\":\n",
    "            Y1 += 1\n",
    "        elif i == \"V\":\n",
    "            Y1 += 1\n",
    "        elif i == \"E\":\n",
    "            Y1 += 1\n",
    "\n",
    "    for z in name2:\n",
    "        if z == \"T\":\n",
    "            X2 += 1\n",
    "        elif z == \"R\":\n",
    "            X2 += 1\n",
    "        elif z == \"U\":\n",
    "            X2 += 1\n",
    "        elif z == \"E\":\n",
    "            X2 += 1\n",
    "    for z in name2:\n",
    "        if z == \"L\":\n",
    "            Y2 += 1\n",
    "        elif z == \"O\":\n",
    "            Y2 += 1\n",
    "        elif z == \"V\":\n",
    "            Y2 += 1\n",
    "        elif z == \"E\":\n",
    "            Y2 += 1\n",
    "\n",
    "    X = str(X1 + X2)\n",
    "    Y = str(Y1 + Y2)\n",
    "\n",
    "    print(\"Love Score: \" + X + Y)\n",
    "\n",
    "name1 = input(\"Enter the first name: \")\n",
    "name2 = input(\"Enter the second name: \")\n",
    "calculate_love_score(name1.upper(), name2.upper())\n"
   ]
  },
  {
   "cell_type": "code",
   "execution_count": 32,
   "id": "5f60ac1b-fe8e-423c-9fdb-e038aa1b8ce8",
   "metadata": {},
   "outputs": [
    {
     "name": "stdin",
     "output_type": "stream",
     "text": [
      "Enter your first name:  youssef\n",
      "Enter your second name:  abdelmoneim\n"
     ]
    },
    {
     "name": "stdout",
     "output_type": "stream",
     "text": [
      "Youssef Abdelmoneim\n"
     ]
    }
   ],
   "source": [
    "def format_name(f_name, l_name):\n",
    "    if f_name==\"\" or l_name==\"\":\n",
    "        print(\"please enter valid names\")\n",
    "    return f_name.title()+\" \"+l_name.title()\n",
    "f_name=input(\"Enter your first name: \")\n",
    "l_name=input(\"Enter your second name: \")\n",
    "print(format_name(f_name, l_name))"
   ]
  },
  {
   "cell_type": "code",
   "execution_count": null,
   "id": "3a75d97f-c75c-4d7c-a843-7c36f2c11d2c",
   "metadata": {},
   "outputs": [],
   "source": []
  }
 ],
 "metadata": {
  "kernelspec": {
   "display_name": "Python 3 (ipykernel)",
   "language": "python",
   "name": "python3"
  },
  "language_info": {
   "codemirror_mode": {
    "name": "ipython",
    "version": 3
   },
   "file_extension": ".py",
   "mimetype": "text/x-python",
   "name": "python",
   "nbconvert_exporter": "python",
   "pygments_lexer": "ipython3",
   "version": "3.13.2"
  }
 },
 "nbformat": 4,
 "nbformat_minor": 5
}
